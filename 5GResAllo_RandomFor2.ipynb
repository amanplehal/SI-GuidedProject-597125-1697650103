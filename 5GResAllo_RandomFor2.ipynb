{
 "cells": [
  {
   "cell_type": "code",
   "execution_count": 113,
   "id": "92e76f79-2f2c-45f6-aa25-700f6001e29a",
   "metadata": {
    "tags": []
   },
   "outputs": [],
   "source": [
    "import numpy as np\n",
    "import pandas as pd\n",
    "from sklearn.model_selection import train_test_split\n",
    "from sklearn.ensemble import RandomForestRegressor\n",
    "from sklearn.metrics import mean_squared_error\n",
    "from sklearn.preprocessing import OneHotEncoder\n",
    "from sklearn.preprocessing import LabelEncoder\n",
    "from sklearn.compose import ColumnTransformer\n",
    "from sklearn.pipeline import Pipeline\n",
    "from sklearn.metrics import mean_absolute_error, r2_score\n",
    "import matplotlib.pyplot as plt"
   ]
  },
  {
   "cell_type": "code",
   "execution_count": 114,
   "id": "83dde939-1414-40ea-bd09-e4003552d09f",
   "metadata": {
    "tags": []
   },
   "outputs": [],
   "source": [
    "df = pd.read_csv('Quality of Service 5G.csv')"
   ]
  },
  {
   "cell_type": "code",
   "execution_count": 115,
   "id": "9721bc71-c6e2-4116-b13d-18898b03ba7f",
   "metadata": {
    "scrolled": true,
    "tags": []
   },
   "outputs": [
    {
     "data": {
      "text/html": [
       "<div>\n",
       "<style scoped>\n",
       "    .dataframe tbody tr th:only-of-type {\n",
       "        vertical-align: middle;\n",
       "    }\n",
       "\n",
       "    .dataframe tbody tr th {\n",
       "        vertical-align: top;\n",
       "    }\n",
       "\n",
       "    .dataframe thead th {\n",
       "        text-align: right;\n",
       "    }\n",
       "</style>\n",
       "<table border=\"1\" class=\"dataframe\">\n",
       "  <thead>\n",
       "    <tr style=\"text-align: right;\">\n",
       "      <th></th>\n",
       "      <th>Timestamp</th>\n",
       "      <th>User_ID</th>\n",
       "      <th>Application_Type</th>\n",
       "      <th>Signal_Strength</th>\n",
       "      <th>Latency</th>\n",
       "      <th>Required_Bandwidth</th>\n",
       "      <th>Allocated_Bandwidth</th>\n",
       "      <th>Resource_Allocation</th>\n",
       "    </tr>\n",
       "  </thead>\n",
       "  <tbody>\n",
       "    <tr>\n",
       "      <th>0</th>\n",
       "      <td>09-03-2023 10:00</td>\n",
       "      <td>User_1</td>\n",
       "      <td>Video_Call</td>\n",
       "      <td>-75 dBm</td>\n",
       "      <td>30 ms</td>\n",
       "      <td>10 Mbps</td>\n",
       "      <td>15 Mbps</td>\n",
       "      <td>70%</td>\n",
       "    </tr>\n",
       "    <tr>\n",
       "      <th>1</th>\n",
       "      <td>09-03-2023 10:00</td>\n",
       "      <td>User_2</td>\n",
       "      <td>Voice_Call</td>\n",
       "      <td>-80 dBm</td>\n",
       "      <td>20 ms</td>\n",
       "      <td>100 Kbps</td>\n",
       "      <td>120 Kbps</td>\n",
       "      <td>80%</td>\n",
       "    </tr>\n",
       "    <tr>\n",
       "      <th>2</th>\n",
       "      <td>09-03-2023 10:00</td>\n",
       "      <td>User_3</td>\n",
       "      <td>Streaming</td>\n",
       "      <td>-85 dBm</td>\n",
       "      <td>40 ms</td>\n",
       "      <td>5 Mbps</td>\n",
       "      <td>6 Mbps</td>\n",
       "      <td>75%</td>\n",
       "    </tr>\n",
       "    <tr>\n",
       "      <th>3</th>\n",
       "      <td>09-03-2023 10:00</td>\n",
       "      <td>User_4</td>\n",
       "      <td>Emergency_Service</td>\n",
       "      <td>-70 dBm</td>\n",
       "      <td>10 ms</td>\n",
       "      <td>1 Mbps</td>\n",
       "      <td>1.5 Mbps</td>\n",
       "      <td>90%</td>\n",
       "    </tr>\n",
       "    <tr>\n",
       "      <th>4</th>\n",
       "      <td>09-03-2023 10:00</td>\n",
       "      <td>User_5</td>\n",
       "      <td>Online_Gaming</td>\n",
       "      <td>-78 dBm</td>\n",
       "      <td>25 ms</td>\n",
       "      <td>2 Mbps</td>\n",
       "      <td>3 Mbps</td>\n",
       "      <td>85%</td>\n",
       "    </tr>\n",
       "  </tbody>\n",
       "</table>\n",
       "</div>"
      ],
      "text/plain": [
       "          Timestamp User_ID   Application_Type Signal_Strength Latency  \\\n",
       "0  09-03-2023 10:00  User_1         Video_Call         -75 dBm   30 ms   \n",
       "1  09-03-2023 10:00  User_2         Voice_Call         -80 dBm   20 ms   \n",
       "2  09-03-2023 10:00  User_3          Streaming         -85 dBm   40 ms   \n",
       "3  09-03-2023 10:00  User_4  Emergency_Service         -70 dBm   10 ms   \n",
       "4  09-03-2023 10:00  User_5      Online_Gaming         -78 dBm   25 ms   \n",
       "\n",
       "  Required_Bandwidth Allocated_Bandwidth Resource_Allocation  \n",
       "0            10 Mbps             15 Mbps                 70%  \n",
       "1           100 Kbps            120 Kbps                 80%  \n",
       "2             5 Mbps              6 Mbps                 75%  \n",
       "3             1 Mbps            1.5 Mbps                 90%  \n",
       "4             2 Mbps              3 Mbps                 85%  "
      ]
     },
     "execution_count": 115,
     "metadata": {},
     "output_type": "execute_result"
    }
   ],
   "source": [
    "df.head()"
   ]
  },
  {
   "cell_type": "code",
   "execution_count": 116,
   "id": "a511fbd6-2447-4fb5-aefa-6716719f316a",
   "metadata": {
    "tags": []
   },
   "outputs": [
    {
     "name": "stdout",
     "output_type": "stream",
     "text": [
      "<class 'pandas.core.frame.DataFrame'>\n",
      "RangeIndex: 400 entries, 0 to 399\n",
      "Data columns (total 8 columns):\n",
      " #   Column               Non-Null Count  Dtype \n",
      "---  ------               --------------  ----- \n",
      " 0   Timestamp            400 non-null    object\n",
      " 1   User_ID              400 non-null    object\n",
      " 2   Application_Type     400 non-null    object\n",
      " 3   Signal_Strength      400 non-null    object\n",
      " 4   Latency              400 non-null    object\n",
      " 5   Required_Bandwidth   400 non-null    object\n",
      " 6   Allocated_Bandwidth  400 non-null    object\n",
      " 7   Resource_Allocation  400 non-null    object\n",
      "dtypes: object(8)\n",
      "memory usage: 25.1+ KB\n"
     ]
    }
   ],
   "source": [
    "df.info()"
   ]
  },
  {
   "cell_type": "code",
   "execution_count": 117,
   "id": "bfee1f45-b0d6-4df9-b90c-7e5712a4fc8a",
   "metadata": {
    "tags": []
   },
   "outputs": [],
   "source": [
    "#Convert String in Signal Strength\n",
    "df['Signal_Strength'] = df['Signal_Strength'].str.replace(' dBm', '').astype(float)"
   ]
  },
  {
   "cell_type": "code",
   "execution_count": 118,
   "id": "14baee36-6be9-459d-9a63-752338bddfc2",
   "metadata": {
    "tags": []
   },
   "outputs": [],
   "source": [
    "#Convert String in Latency\n",
    "df['Latency'] = df['Latency'].str.replace(' ms', '').astype(float)"
   ]
  },
  {
   "cell_type": "code",
   "execution_count": 119,
   "id": "9332b50e-d160-48a5-bf27-e96ddcde1fd4",
   "metadata": {
    "tags": []
   },
   "outputs": [],
   "source": [
    "#Convert Bandwidth from kbps to mbps\n",
    "def convert_bandwidth(value):\n",
    "    if 'Kbps' in value:\n",
    "        return float(value.replace(' Kbps', '')) / 1000  # Convert Kbps to Mbps\n",
    "    elif 'Mbps' in value:\n",
    "        return float(value.replace(' Mbps', ''))\n",
    "    else:\n",
    "        return float(value)"
   ]
  },
  {
   "cell_type": "code",
   "execution_count": 120,
   "id": "9b4db83d-5270-4d0b-8269-fa6b44307c97",
   "metadata": {
    "tags": []
   },
   "outputs": [],
   "source": [
    "df['Required_Bandwidth'] = df['Required_Bandwidth'].apply(convert_bandwidth)\n",
    "df['Allocated_Bandwidth'] = df['Allocated_Bandwidth'].apply(convert_bandwidth)"
   ]
  },
  {
   "cell_type": "code",
   "execution_count": 121,
   "id": "1bbcbecd-4c93-412e-9704-ec41ecaa0cc9",
   "metadata": {
    "tags": []
   },
   "outputs": [],
   "source": [
    "#Convert percentage to float\n",
    "df['Resource_Allocation'] = df['Resource_Allocation'].str.replace('%', '').astype(float) / 100"
   ]
  },
  {
   "cell_type": "code",
   "execution_count": 122,
   "id": "4a103105-675b-4396-9a11-d07f04da7df4",
   "metadata": {
    "tags": []
   },
   "outputs": [],
   "source": [
    "#Feature engineering and selection\n",
    "X = df.drop(['Timestamp', 'User_ID', 'Resource_Allocation'], axis=1)\n",
    "y = df['Resource_Allocation']"
   ]
  },
  {
   "cell_type": "code",
   "execution_count": 123,
   "id": "125483c4-e551-4e05-9ed9-c81d54f83166",
   "metadata": {
    "tags": []
   },
   "outputs": [
    {
     "data": {
      "text/html": [
       "<div>\n",
       "<style scoped>\n",
       "    .dataframe tbody tr th:only-of-type {\n",
       "        vertical-align: middle;\n",
       "    }\n",
       "\n",
       "    .dataframe tbody tr th {\n",
       "        vertical-align: top;\n",
       "    }\n",
       "\n",
       "    .dataframe thead th {\n",
       "        text-align: right;\n",
       "    }\n",
       "</style>\n",
       "<table border=\"1\" class=\"dataframe\">\n",
       "  <thead>\n",
       "    <tr style=\"text-align: right;\">\n",
       "      <th></th>\n",
       "      <th>Application_Type</th>\n",
       "      <th>Signal_Strength</th>\n",
       "      <th>Latency</th>\n",
       "      <th>Required_Bandwidth</th>\n",
       "      <th>Allocated_Bandwidth</th>\n",
       "    </tr>\n",
       "  </thead>\n",
       "  <tbody>\n",
       "    <tr>\n",
       "      <th>0</th>\n",
       "      <td>6</td>\n",
       "      <td>-75.0</td>\n",
       "      <td>30.0</td>\n",
       "      <td>10.0</td>\n",
       "      <td>15.00</td>\n",
       "    </tr>\n",
       "    <tr>\n",
       "      <th>1</th>\n",
       "      <td>9</td>\n",
       "      <td>-80.0</td>\n",
       "      <td>20.0</td>\n",
       "      <td>0.1</td>\n",
       "      <td>0.12</td>\n",
       "    </tr>\n",
       "    <tr>\n",
       "      <th>2</th>\n",
       "      <td>5</td>\n",
       "      <td>-85.0</td>\n",
       "      <td>40.0</td>\n",
       "      <td>5.0</td>\n",
       "      <td>6.00</td>\n",
       "    </tr>\n",
       "    <tr>\n",
       "      <th>3</th>\n",
       "      <td>1</td>\n",
       "      <td>-70.0</td>\n",
       "      <td>10.0</td>\n",
       "      <td>1.0</td>\n",
       "      <td>1.50</td>\n",
       "    </tr>\n",
       "    <tr>\n",
       "      <th>4</th>\n",
       "      <td>4</td>\n",
       "      <td>-78.0</td>\n",
       "      <td>25.0</td>\n",
       "      <td>2.0</td>\n",
       "      <td>3.00</td>\n",
       "    </tr>\n",
       "    <tr>\n",
       "      <th>...</th>\n",
       "      <td>...</td>\n",
       "      <td>...</td>\n",
       "      <td>...</td>\n",
       "      <td>...</td>\n",
       "      <td>...</td>\n",
       "    </tr>\n",
       "    <tr>\n",
       "      <th>395</th>\n",
       "      <td>5</td>\n",
       "      <td>-110.0</td>\n",
       "      <td>61.0</td>\n",
       "      <td>1.3</td>\n",
       "      <td>1.80</td>\n",
       "    </tr>\n",
       "    <tr>\n",
       "      <th>396</th>\n",
       "      <td>6</td>\n",
       "      <td>-40.0</td>\n",
       "      <td>53.0</td>\n",
       "      <td>14.5</td>\n",
       "      <td>15.80</td>\n",
       "    </tr>\n",
       "    <tr>\n",
       "      <th>397</th>\n",
       "      <td>7</td>\n",
       "      <td>-113.0</td>\n",
       "      <td>58.0</td>\n",
       "      <td>1.0</td>\n",
       "      <td>1.40</td>\n",
       "    </tr>\n",
       "    <tr>\n",
       "      <th>398</th>\n",
       "      <td>1</td>\n",
       "      <td>-40.0</td>\n",
       "      <td>5.0</td>\n",
       "      <td>0.4</td>\n",
       "      <td>0.40</td>\n",
       "    </tr>\n",
       "    <tr>\n",
       "      <th>399</th>\n",
       "      <td>10</td>\n",
       "      <td>-113.0</td>\n",
       "      <td>0.0</td>\n",
       "      <td>0.1</td>\n",
       "      <td>0.10</td>\n",
       "    </tr>\n",
       "  </tbody>\n",
       "</table>\n",
       "<p>400 rows × 5 columns</p>\n",
       "</div>"
      ],
      "text/plain": [
       "     Application_Type  Signal_Strength  Latency  Required_Bandwidth  \\\n",
       "0                   6            -75.0     30.0                10.0   \n",
       "1                   9            -80.0     20.0                 0.1   \n",
       "2                   5            -85.0     40.0                 5.0   \n",
       "3                   1            -70.0     10.0                 1.0   \n",
       "4                   4            -78.0     25.0                 2.0   \n",
       "..                ...              ...      ...                 ...   \n",
       "395                 5           -110.0     61.0                 1.3   \n",
       "396                 6            -40.0     53.0                14.5   \n",
       "397                 7           -113.0     58.0                 1.0   \n",
       "398                 1            -40.0      5.0                 0.4   \n",
       "399                10           -113.0      0.0                 0.1   \n",
       "\n",
       "     Allocated_Bandwidth  \n",
       "0                  15.00  \n",
       "1                   0.12  \n",
       "2                   6.00  \n",
       "3                   1.50  \n",
       "4                   3.00  \n",
       "..                   ...  \n",
       "395                 1.80  \n",
       "396                15.80  \n",
       "397                 1.40  \n",
       "398                 0.40  \n",
       "399                 0.10  \n",
       "\n",
       "[400 rows x 5 columns]"
      ]
     },
     "execution_count": 123,
     "metadata": {},
     "output_type": "execute_result"
    }
   ],
   "source": [
    "preprocessor = LabelEncoder()\n",
    "X.Application_Type = preprocessor.fit_transform(X.Application_Type)\n",
    "X"
   ]
  },
  {
   "cell_type": "code",
   "execution_count": 124,
   "id": "3148bf6a",
   "metadata": {},
   "outputs": [],
   "source": [
    "x = X.to_numpy()"
   ]
  },
  {
   "cell_type": "code",
   "execution_count": 125,
   "id": "2981b320",
   "metadata": {},
   "outputs": [
    {
     "data": {
      "text/plain": [
       "array([[ 6.00e+00, -7.50e+01,  3.00e+01,  1.00e+01,  1.50e+01],\n",
       "       [ 9.00e+00, -8.00e+01,  2.00e+01,  1.00e-01,  1.20e-01],\n",
       "       [ 5.00e+00, -8.50e+01,  4.00e+01,  5.00e+00,  6.00e+00],\n",
       "       ...,\n",
       "       [ 7.00e+00, -1.13e+02,  5.80e+01,  1.00e+00,  1.40e+00],\n",
       "       [ 1.00e+00, -4.00e+01,  5.00e+00,  4.00e-01,  4.00e-01],\n",
       "       [ 1.00e+01, -1.13e+02,  0.00e+00,  1.00e-01,  1.00e-01]])"
      ]
     },
     "execution_count": 125,
     "metadata": {},
     "output_type": "execute_result"
    }
   ],
   "source": [
    "x"
   ]
  },
  {
   "cell_type": "code",
   "execution_count": 126,
   "id": "502f42c6-c75b-4c6d-945d-e40751e87c02",
   "metadata": {
    "tags": []
   },
   "outputs": [
    {
     "data": {
      "text/plain": [
       "(400, 5)"
      ]
     },
     "execution_count": 126,
     "metadata": {},
     "output_type": "execute_result"
    }
   ],
   "source": [
    "x.shape"
   ]
  },
  {
   "cell_type": "code",
   "execution_count": 127,
   "id": "b36eb541",
   "metadata": {
    "tags": []
   },
   "outputs": [
    {
     "data": {
      "text/plain": [
       "['column']"
      ]
     },
     "execution_count": 127,
     "metadata": {},
     "output_type": "execute_result"
    }
   ],
   "source": [
    "import joblib\n",
    "joblib.dump(preprocessor, \"column\")"
   ]
  },
  {
   "cell_type": "markdown",
   "id": "b365fb1b",
   "metadata": {},
   "source": [
    "Model Building"
   ]
  },
  {
   "cell_type": "code",
   "execution_count": 128,
   "id": "46dabc06-9196-4a2d-bb56-d4d5ee60be93",
   "metadata": {
    "tags": []
   },
   "outputs": [],
   "source": [
    "#Data Split\n",
    "x_train, x_test, y_train, y_test = train_test_split(x, y, test_size=0.2, random_state=42)"
   ]
  },
  {
   "cell_type": "code",
   "execution_count": 129,
   "id": "1a9b5513-3824-461a-8a1b-b3bdf0dbbb35",
   "metadata": {
    "tags": []
   },
   "outputs": [
    {
     "data": {
      "text/html": [
       "<style>#sk-container-id-4 {color: black;}#sk-container-id-4 pre{padding: 0;}#sk-container-id-4 div.sk-toggleable {background-color: white;}#sk-container-id-4 label.sk-toggleable__label {cursor: pointer;display: block;width: 100%;margin-bottom: 0;padding: 0.3em;box-sizing: border-box;text-align: center;}#sk-container-id-4 label.sk-toggleable__label-arrow:before {content: \"▸\";float: left;margin-right: 0.25em;color: #696969;}#sk-container-id-4 label.sk-toggleable__label-arrow:hover:before {color: black;}#sk-container-id-4 div.sk-estimator:hover label.sk-toggleable__label-arrow:before {color: black;}#sk-container-id-4 div.sk-toggleable__content {max-height: 0;max-width: 0;overflow: hidden;text-align: left;background-color: #f0f8ff;}#sk-container-id-4 div.sk-toggleable__content pre {margin: 0.2em;color: black;border-radius: 0.25em;background-color: #f0f8ff;}#sk-container-id-4 input.sk-toggleable__control:checked~div.sk-toggleable__content {max-height: 200px;max-width: 100%;overflow: auto;}#sk-container-id-4 input.sk-toggleable__control:checked~label.sk-toggleable__label-arrow:before {content: \"▾\";}#sk-container-id-4 div.sk-estimator input.sk-toggleable__control:checked~label.sk-toggleable__label {background-color: #d4ebff;}#sk-container-id-4 div.sk-label input.sk-toggleable__control:checked~label.sk-toggleable__label {background-color: #d4ebff;}#sk-container-id-4 input.sk-hidden--visually {border: 0;clip: rect(1px 1px 1px 1px);clip: rect(1px, 1px, 1px, 1px);height: 1px;margin: -1px;overflow: hidden;padding: 0;position: absolute;width: 1px;}#sk-container-id-4 div.sk-estimator {font-family: monospace;background-color: #f0f8ff;border: 1px dotted black;border-radius: 0.25em;box-sizing: border-box;margin-bottom: 0.5em;}#sk-container-id-4 div.sk-estimator:hover {background-color: #d4ebff;}#sk-container-id-4 div.sk-parallel-item::after {content: \"\";width: 100%;border-bottom: 1px solid gray;flex-grow: 1;}#sk-container-id-4 div.sk-label:hover label.sk-toggleable__label {background-color: #d4ebff;}#sk-container-id-4 div.sk-serial::before {content: \"\";position: absolute;border-left: 1px solid gray;box-sizing: border-box;top: 0;bottom: 0;left: 50%;z-index: 0;}#sk-container-id-4 div.sk-serial {display: flex;flex-direction: column;align-items: center;background-color: white;padding-right: 0.2em;padding-left: 0.2em;position: relative;}#sk-container-id-4 div.sk-item {position: relative;z-index: 1;}#sk-container-id-4 div.sk-parallel {display: flex;align-items: stretch;justify-content: center;background-color: white;position: relative;}#sk-container-id-4 div.sk-item::before, #sk-container-id-4 div.sk-parallel-item::before {content: \"\";position: absolute;border-left: 1px solid gray;box-sizing: border-box;top: 0;bottom: 0;left: 50%;z-index: -1;}#sk-container-id-4 div.sk-parallel-item {display: flex;flex-direction: column;z-index: 1;position: relative;background-color: white;}#sk-container-id-4 div.sk-parallel-item:first-child::after {align-self: flex-end;width: 50%;}#sk-container-id-4 div.sk-parallel-item:last-child::after {align-self: flex-start;width: 50%;}#sk-container-id-4 div.sk-parallel-item:only-child::after {width: 0;}#sk-container-id-4 div.sk-dashed-wrapped {border: 1px dashed gray;margin: 0 0.4em 0.5em 0.4em;box-sizing: border-box;padding-bottom: 0.4em;background-color: white;}#sk-container-id-4 div.sk-label label {font-family: monospace;font-weight: bold;display: inline-block;line-height: 1.2em;}#sk-container-id-4 div.sk-label-container {text-align: center;}#sk-container-id-4 div.sk-container {/* jupyter's `normalize.less` sets `[hidden] { display: none; }` but bootstrap.min.css set `[hidden] { display: none !important; }` so we also need the `!important` here to be able to override the default hidden behavior on the sphinx rendered scikit-learn.org. See: https://github.com/scikit-learn/scikit-learn/issues/21755 */display: inline-block !important;position: relative;}#sk-container-id-4 div.sk-text-repr-fallback {display: none;}</style><div id=\"sk-container-id-4\" class=\"sk-top-container\"><div class=\"sk-text-repr-fallback\"><pre>RandomForestRegressor()</pre><b>In a Jupyter environment, please rerun this cell to show the HTML representation or trust the notebook. <br />On GitHub, the HTML representation is unable to render, please try loading this page with nbviewer.org.</b></div><div class=\"sk-container\" hidden><div class=\"sk-item\"><div class=\"sk-estimator sk-toggleable\"><input class=\"sk-toggleable__control sk-hidden--visually\" id=\"sk-estimator-id-4\" type=\"checkbox\" checked><label for=\"sk-estimator-id-4\" class=\"sk-toggleable__label sk-toggleable__label-arrow\">RandomForestRegressor</label><div class=\"sk-toggleable__content\"><pre>RandomForestRegressor()</pre></div></div></div></div></div>"
      ],
      "text/plain": [
       "RandomForestRegressor()"
      ]
     },
     "execution_count": 129,
     "metadata": {},
     "output_type": "execute_result"
    }
   ],
   "source": [
    "model = RandomForestRegressor()\n",
    "model.fit(x_train, y_train)"
   ]
  },
  {
   "cell_type": "code",
   "execution_count": 130,
   "id": "036275d9-9be2-4945-a441-1853ae72e535",
   "metadata": {
    "tags": []
   },
   "outputs": [],
   "source": [
    "#Predict\n",
    "predictions = model.predict(x_test)"
   ]
  },
  {
   "cell_type": "code",
   "execution_count": 131,
   "id": "eff9d80c-b67e-4e6f-a279-34b5215dae69",
   "metadata": {
    "tags": []
   },
   "outputs": [
    {
     "data": {
      "text/plain": [
       "array([0.8995, 0.6   , 0.9   , 0.8005, 0.858 , 0.75  , 0.9   , 0.75  ,\n",
       "       0.8   , 0.6   , 0.8125, 0.9   , 0.702 , 0.6995, 0.8885, 0.6645,\n",
       "       0.7   , 0.6   , 0.7   , 0.9   , 0.6   , 0.85  , 0.7   , 0.708 ,\n",
       "       0.7465, 0.75  , 0.75  , 0.8995, 0.7   , 0.85  , 0.8485, 0.8995,\n",
       "       0.7   , 0.6   , 0.6   , 0.7   , 0.8845, 0.7   , 0.7   , 0.7445,\n",
       "       0.7015, 0.85  , 0.7   , 0.85  , 0.7   , 0.7   , 0.85  , 0.7   ,\n",
       "       0.694 , 0.6995, 0.713 , 0.9   , 0.7995, 0.7105, 0.7   , 0.7015,\n",
       "       0.7   , 0.75  , 0.714 , 0.7   , 0.85  , 0.7   , 0.709 , 0.75  ,\n",
       "       0.8   , 0.7765, 0.6   , 0.75  , 0.8   , 0.893 , 0.6   , 0.85  ,\n",
       "       0.5685, 0.85  , 0.75  , 0.7   , 0.85  , 0.9   , 0.6   , 0.9   ])"
      ]
     },
     "execution_count": 131,
     "metadata": {},
     "output_type": "execute_result"
    }
   ],
   "source": [
    "predictions"
   ]
  },
  {
   "cell_type": "code",
   "execution_count": 132,
   "id": "12091371-74c7-42f1-99de-e3d6f0b7edfc",
   "metadata": {
    "tags": []
   },
   "outputs": [
    {
     "data": {
      "text/plain": [
       "209    0.90\n",
       "280    0.60\n",
       "33     0.90\n",
       "210    0.80\n",
       "93     0.90\n",
       "       ... \n",
       "246    0.70\n",
       "227    0.85\n",
       "369    0.90\n",
       "176    0.60\n",
       "289    0.90\n",
       "Name: Resource_Allocation, Length: 80, dtype: float64"
      ]
     },
     "execution_count": 132,
     "metadata": {},
     "output_type": "execute_result"
    }
   ],
   "source": [
    "y_test"
   ]
  },
  {
   "cell_type": "code",
   "execution_count": 133,
   "id": "c23acda5-f99f-4803-bdd5-c0a478bcd114",
   "metadata": {
    "tags": []
   },
   "outputs": [
    {
     "name": "stdout",
     "output_type": "stream",
     "text": [
      "Mean Squared Error: 0.0007550968749999963\n"
     ]
    }
   ],
   "source": [
    "#Evaluation\n",
    "mse = mean_squared_error(y_test, predictions)\n",
    "print(f'Mean Squared Error: {mse}')"
   ]
  },
  {
   "cell_type": "code",
   "execution_count": 134,
   "id": "881fe000-8669-4671-9563-f09d5479f9c7",
   "metadata": {
    "tags": []
   },
   "outputs": [
    {
     "name": "stdout",
     "output_type": "stream",
     "text": [
      "Mean Absolute Error (MAE): 0.008418750000000568\n",
      "R-squared: 0.9138224778208733\n"
     ]
    }
   ],
   "source": [
    "#Mean Absolute Error(MAE)\n",
    "mae = mean_absolute_error(y_test, predictions)\n",
    "print(f'Mean Absolute Error (MAE): {mae}')\n",
    "\n",
    "#R-squared\n",
    "accuracy = r2_score(y_test, predictions)\n",
    "print(f'R-squared: {accuracy}')"
   ]
  },
  {
   "cell_type": "code",
   "execution_count": 135,
   "id": "b7e7b49e-43e9-4c04-982f-f07e035b3ae6",
   "metadata": {
    "tags": []
   },
   "outputs": [
    {
     "data": {
      "text/plain": [
       "0.9138224778208733"
      ]
     },
     "execution_count": 135,
     "metadata": {},
     "output_type": "execute_result"
    }
   ],
   "source": [
    "accuracy"
   ]
  },
  {
   "cell_type": "code",
   "execution_count": 136,
   "id": "f1d83bf2-51af-4e6c-ab23-257a7771c22a",
   "metadata": {
    "tags": []
   },
   "outputs": [
    {
     "data": {
      "text/plain": [
       "(400, 5)"
      ]
     },
     "execution_count": 136,
     "metadata": {},
     "output_type": "execute_result"
    }
   ],
   "source": [
    "x.shape"
   ]
  },
  {
   "cell_type": "code",
   "execution_count": 137,
   "id": "db28528d",
   "metadata": {
    "tags": []
   },
   "outputs": [],
   "source": [
    "import pickle\n",
    "pickle.dump(model, open('resalloc.pkl', 'wb'))"
   ]
  },
  {
   "cell_type": "markdown",
   "id": "38737d60-f29a-48d4-8413-ee3bbcd35fd9",
   "metadata": {},
   "source": [
    "Visualize Result"
   ]
  },
  {
   "cell_type": "code",
   "execution_count": 138,
   "id": "9cdbb73f-c3c4-4cbf-9f67-4e739a6bf9a2",
   "metadata": {
    "tags": []
   },
   "outputs": [
    {
     "data": {
      "image/png": "[encoded data removed]",
      "text/plain": [
       "<Figure size 640x480 with 1 Axes>"
      ]
     },
     "metadata": {},
     "output_type": "display_data"
    }
   ],
   "source": [
    "test_predictions = model.predict(x_test)\n",
    "#Scatter Plot\n",
    "plt.scatter(y_test, test_predictions)\n",
    "plt.xlabel('Actual Resource Allocation')\n",
    "plt.ylabel('Predicted Resource Allocation')\n",
    "plt.title('Actual vs Predicted Resource Allocation (Test Set)')\n",
    "plt.show()"
   ]
  },
  {
   "cell_type": "code",
   "execution_count": 139,
   "id": "b46625db-9d7b-4bcd-8238-9ad1c9310004",
   "metadata": {
    "tags": []
   },
   "outputs": [
    {
     "data": {
      "image/png": "[encoded data removed]",
      "text/plain": [
       "<Figure size 640x480 with 1 Axes>"
      ]
     },
     "metadata": {},
     "output_type": "display_data"
    }
   ],
   "source": [
    "comparison_df = pd.DataFrame({'Actual': y_test, 'Predicted': test_predictions})\n",
    "comparison_df = comparison_df.sort_values(by='Actual')\n",
    "x_indices = np.arange(len(comparison_df))\n",
    "#Bar Chart\n",
    "width = 0.35  # width of the bars\n",
    "plt.bar(x_indices - width/2, comparison_df['Actual'], width, label='Actual')\n",
    "plt.bar(x_indices + width/2, comparison_df['Predicted'], width, label='Predicted')\n",
    "plt.xlabel('Data Point')\n",
    "plt.ylabel('Resource Allocation')\n",
    "plt.title('Actual vs Predicted Resource Allocation (Test Set)')\n",
    "plt.legend()\n",
    "plt.show()"
   ]
  },
  {
   "cell_type": "code",
   "execution_count": 140,
   "id": "d7742f7e-7e91-4668-85b3-cf36843f7ecd",
   "metadata": {
    "tags": []
   },
   "outputs": [
    {
     "data": {
      "text/plain": [
       "<Axes: >"
      ]
     },
     "execution_count": 140,
     "metadata": {},
     "output_type": "execute_result"
    },
    {
     "data": {
      "image/png": "[encoded data removed]",
      "text/plain": [
       "<Figure size 640x480 with 1 Axes>"
      ]
     },
     "metadata": {},
     "output_type": "display_data"
    }
   ],
   "source": [
    "#Line Comparison\n",
    "comparison_df.plot()"
   ]
  },
  {
   "cell_type": "code",
   "execution_count": 141,
   "id": "9f42b25b",
   "metadata": {},
   "outputs": [],
   "source": [
    "yp = model.predict([[6, -75.,  30.,  10.,  15.]])"
   ]
  },
  {
   "cell_type": "code",
   "execution_count": 142,
   "id": "80f83c36",
   "metadata": {},
   "outputs": [
    {
     "data": {
      "text/plain": [
       "array([0.7465])"
      ]
     },
     "execution_count": 142,
     "metadata": {},
     "output_type": "execute_result"
    }
   ],
   "source": [
    "yp"
   ]
  },
  {
   "cell_type": "code",
   "execution_count": 143,
   "id": "1755adc8",
   "metadata": {},
   "outputs": [],
   "source": [
    "new = joblib.load('column')"
   ]
  },
  {
   "cell_type": "code",
   "execution_count": 144,
   "id": "48030665",
   "metadata": {},
   "outputs": [],
   "source": [
    "p = new.fit_transform([\"Video_Call\", -75.,  30.,  10.,  15.])"
   ]
  },
  {
   "cell_type": "code",
   "execution_count": 145,
   "id": "dc0d8aa0",
   "metadata": {},
   "outputs": [
    {
     "data": {
      "text/plain": [
       "array([4, 0, 3, 1, 2], dtype=int64)"
      ]
     },
     "execution_count": 145,
     "metadata": {},
     "output_type": "execute_result"
    }
   ],
   "source": [
    "p"
   ]
  },
  {
   "cell_type": "code",
   "execution_count": 146,
   "id": "84351d71",
   "metadata": {},
   "outputs": [
    {
     "data": {
      "text/plain": [
       "array([4, 0, 3, 1, 2], dtype=int64)"
      ]
     },
     "execution_count": 146,
     "metadata": {},
     "output_type": "execute_result"
    }
   ],
   "source": [
    "p"
   ]
  },
  {
   "cell_type": "code",
   "execution_count": 147,
   "id": "6a8fbe2c",
   "metadata": {},
   "outputs": [],
   "source": [
    "y1 = model.predict([p])"
   ]
  },
  {
   "cell_type": "code",
   "execution_count": 148,
   "id": "5d342cb1",
   "metadata": {},
   "outputs": [
    {
     "data": {
      "text/plain": [
       "array([0.7825])"
      ]
     },
     "execution_count": 148,
     "metadata": {},
     "output_type": "execute_result"
    }
   ],
   "source": [
    "y1"
   ]
  },
  {
   "cell_type": "code",
   "execution_count": 149,
   "id": "6f1ac887",
   "metadata": {},
   "outputs": [],
   "source": [
    "y2 = model.predict([new.fit_transform([\"Video_Call\", -75.,  30.,  10.,  15.])])"
   ]
  },
  {
   "cell_type": "code",
   "execution_count": 150,
   "id": "9b313c93",
   "metadata": {},
   "outputs": [
    {
     "data": {
      "text/plain": [
       "array([0.7825])"
      ]
     },
     "execution_count": 150,
     "metadata": {},
     "output_type": "execute_result"
    }
   ],
   "source": [
    "y2"
   ]
  },
  {
   "cell_type": "code",
   "execution_count": null,
   "id": "1d3afa9f",
   "metadata": {},
   "outputs": [],
   "source": []
  }
 ],
 "metadata": {
  "kernelspec": {
   "display_name": "Python 3 (ipykernel)",
   "language": "python",
   "name": "python3"
  },
  "language_info": {
   "codemirror_mode": {
    "name": "ipython",
    "version": 3
   },
   "file_extension": ".py",
   "mimetype": "text/x-python",
   "name": "python",
   "nbconvert_exporter": "python",
   "pygments_lexer": "ipython3",
   "version": "3.11.5"
  }
 },
 "nbformat": 4,
 "nbformat_minor": 5
}
